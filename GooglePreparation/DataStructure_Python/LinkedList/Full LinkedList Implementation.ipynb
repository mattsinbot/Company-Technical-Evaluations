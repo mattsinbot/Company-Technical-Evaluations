{
 "cells": [
  {
   "cell_type": "markdown",
   "metadata": {},
   "source": [
    "# Implementation of basic functionalities of LinkedList"
   ]
  },
  {
   "cell_type": "code",
   "execution_count": 14,
   "metadata": {},
   "outputs": [],
   "source": [
    "class Node(object):\n",
    "    def __init__(self, value):\n",
    "        self.value = value\n",
    "        self.next = None"
   ]
  },
  {
   "cell_type": "code",
   "execution_count": 15,
   "metadata": {},
   "outputs": [],
   "source": [
    "class LinkedList():\n",
    "    def __init__(self):\n",
    "        self.head = None\n",
    "        self.tail = None\n",
    "        self.num_element = 0\n",
    "        \n",
    "    def prepend(self, value):\n",
    "        \"\"\"Change head with a Node with a given value\"\"\"\n",
    "        if self.head is None:\n",
    "            self.head = Node(value)\n",
    "            self.tail = self.head\n",
    "        else:\n",
    "            old_head = self.head\n",
    "            self.head = Node(value)\n",
    "            self.head.next = old_head\n",
    "        self.num_element += 1\n",
    "        \n",
    "    def append(self, value):\n",
    "        \"\"\"Append a Node with a given value at the tail\"\"\"\n",
    "        if self.head is None:\n",
    "            self.head = Node(value)\n",
    "            self.tail = self.head\n",
    "        else:\n",
    "            self.tail.next = Node(value)\n",
    "            self.tail = self.tail.next\n",
    "        self.num_element += 1\n",
    "        \n",
    "    def search(self, value):\n",
    "        \"\"\"Search for a Node with a given value\"\"\"\n",
    "        if self.head is None:\n",
    "            return None\n",
    "        current_node = self.head\n",
    "        while current_node is not None:\n",
    "            if current_node.value == value:\n",
    "                return current_node\n",
    "            current_node = current_node.next\n",
    "        return None\n",
    "    \n",
    "    def remove(self, value):\n",
    "        \"\"\"Remove first occurance of a given value\"\"\"\n",
    "        if self.head is None:\n",
    "            return None\n",
    "        \n",
    "        if self.head.value == value:\n",
    "            self.head = self.head.next\n",
    "            self.num_element -= 1\n",
    "            return None\n",
    "            \n",
    "        current_node = self.head\n",
    "        prev_node = self.head\n",
    "        while current_node is not None:\n",
    "            if current_node.value == value:\n",
    "                prev_node.next = current_node.next\n",
    "                self.num_element -= 1\n",
    "                if current_node.next is None: # if tail node has to be removed\n",
    "                    self.tail = self.prev_node\n",
    "            else:\n",
    "                prev_node = current_node\n",
    "                current_node = current_node.next\n",
    "        return None\n",
    "    \n",
    "    def pop(self):\n",
    "        \"\"\"Remove the first element\"\"\"\n",
    "        if self.head is None:\n",
    "            return None\n",
    "        value = self.head.value\n",
    "        self.head = self.head.next\n",
    "        self.num_element -= 1\n",
    "        return value\n",
    "    \n",
    "    def insert(self, value, pos):\n",
    "        \"\"\"Insert a node with a given value at a particular position\"\"\"\n",
    "        if pos == 0:\n",
    "            self.prepend(value)\n",
    "            \n",
    "        if pos > self.num_element:\n",
    "            self.append(value)\n",
    "            \n",
    "        count = 0\n",
    "        current_node = self.head\n",
    "        while count < pos:\n",
    "            current_node = current_node.next\n",
    "            count += 1\n",
    "        new_node = Node(value)\n",
    "        new_node.next = current_node.next\n",
    "        current_node.next = new_node\n",
    "        self.num_element += 1\n",
    "        return None\n",
    "    \n",
    "    def size(self):\n",
    "        \"\"\"Return the length of a LinkedList\"\"\"\n",
    "        return self.num_element\n",
    "    \n",
    "    def to_list(self):\n",
    "        \"\"\"Returns a list with node values\"\"\"\n",
    "        value_list = []\n",
    "        current_node = self.head\n",
    "        while current_node is not None:\n",
    "            value_list.append(current_node.value)\n",
    "            current_node = current_node.next\n",
    "        return value_list"
   ]
  },
  {
   "cell_type": "markdown",
   "metadata": {},
   "source": [
    "# Test cases"
   ]
  },
  {
   "cell_type": "code",
   "execution_count": 16,
   "metadata": {},
   "outputs": [],
   "source": [
    "# Test prepend\n",
    "linked_list = LinkedList()\n",
    "linked_list.prepend(1)\n",
    "assert linked_list.to_list() == [1], f\"list contents: {linked_list.to_list()}\"\n",
    "linked_list.append(3)\n",
    "linked_list.prepend(2)\n",
    "assert linked_list.to_list() == [2, 1, 3], f\"list contents: {linked_list.to_list()}\""
   ]
  },
  {
   "cell_type": "markdown",
   "metadata": {},
   "source": [
    "# Reverse a LinkedList"
   ]
  },
  {
   "cell_type": "code",
   "execution_count": 17,
   "metadata": {},
   "outputs": [],
   "source": [
    "def reverse_linkedlist(ll):\n",
    "    reversed_linkedlist = LinkedList()\n",
    "    current_node = ll.head\n",
    "    prev_node = Node(ll.head.value)\n",
    "    while current_node.next is not None:\n",
    "        new_node = Node(current_node.next.value)\n",
    "        new_node.next = prev_node\n",
    "        prev_node = new_node\n",
    "        current_node = current_node.next\n",
    "    reversed_linkedlist.head = new_node\n",
    "    return reversed_linkedlist"
   ]
  },
  {
   "cell_type": "code",
   "execution_count": 18,
   "metadata": {},
   "outputs": [
    {
     "name": "stdout",
     "output_type": "stream",
     "text": [
      "[3, 1, 2]\n"
     ]
    }
   ],
   "source": [
    "reversed_ll = reverse_linkedlist(linked_list)\n",
    "reversed_value_list = reversed_ll.to_list()\n",
    "print(reversed_value_list)"
   ]
  },
  {
   "cell_type": "code",
   "execution_count": null,
   "metadata": {},
   "outputs": [],
   "source": []
  }
 ],
 "metadata": {
  "kernelspec": {
   "display_name": "Python 3",
   "language": "python",
   "name": "python3"
  },
  "language_info": {
   "codemirror_mode": {
    "name": "ipython",
    "version": 3
   },
   "file_extension": ".py",
   "mimetype": "text/x-python",
   "name": "python",
   "nbconvert_exporter": "python",
   "pygments_lexer": "ipython3",
   "version": "3.7.4"
  }
 },
 "nbformat": 4,
 "nbformat_minor": 2
}
