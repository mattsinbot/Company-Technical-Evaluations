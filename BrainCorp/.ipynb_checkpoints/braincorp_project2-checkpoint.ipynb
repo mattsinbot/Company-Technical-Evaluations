{
 "cells": [
  {
   "cell_type": "code",
   "execution_count": 2,
   "metadata": {},
   "outputs": [],
   "source": [
    "import numpy as np\n",
    "import cv2\n",
    "import matplotlib.pyplot as plt\n",
    "from pathlib import Path\n",
    "from sklearn import svm"
   ]
  },
  {
   "cell_type": "code",
   "execution_count": 3,
   "metadata": {},
   "outputs": [],
   "source": [
    "PATH = \"/home/nobug-ros/Desktop/cpp_practice/BrainCorp/positive_examples/\""
   ]
  },
  {
   "cell_type": "code",
   "execution_count": 38,
   "metadata": {},
   "outputs": [],
   "source": [
    "# Parameters for HOG descriptor\n",
    "winSize, blockSize, blockStride, cellSize, nbins,   = (32,32), (16,16), (8,8), (8,8), 9\n",
    "hog = cv2.HOGDescriptor(winSize, blockSize, blockStride, cellSize, nbins)\n",
    "\n",
    "# Initialize containers to hold features and labels\n",
    "count = 0\n",
    "pos_feature_mat = np.zeros((5184, 1))\n",
    "pos_lbl = np.zeros((1, 1))\n",
    "\n",
    "for i in range(7,76):\n",
    "    if i > 9:\n",
    "        name = PATH+'pic'+str(i)+'.jpg'\n",
    "    else:\n",
    "        name = PATH+'pic0'+str(i)+'.jpg'\n",
    "    config = Path(name)\n",
    "    if config.is_file():\n",
    "        img = cv2.imread(name, cv2.IMREAD_UNCHANGED)\n",
    "        img_gray = cv2.cvtColor(img, cv2.COLOR_BGR2GRAY)\n",
    "        hf = hog.compute(img_gray)\n",
    "        if count == 0:\n",
    "            pos_feature_mat = hf\n",
    "            pos_lbl = np.array(0)\n",
    "        else:\n",
    "            pos_feature_mat = np.hstack((pos_feature_mat, hf))\n",
    "            pos_lbl = np.hstack((pos_lbl, 1))\n",
    "        count += 1"
   ]
  },
  {
   "cell_type": "code",
   "execution_count": 5,
   "metadata": {},
   "outputs": [
    {
     "name": "stdout",
     "output_type": "stream",
     "text": [
      "(5184, 64)\n",
      "(64,)\n"
     ]
    }
   ],
   "source": [
    "print(pos_feature_mat.shape)\n",
    "print(pos_lbl.shape)"
   ]
  },
  {
   "cell_type": "code",
   "execution_count": 27,
   "metadata": {},
   "outputs": [
    {
     "data": {
      "text/plain": [
       "array([1, 1, 1, 1, 1, 1, 1, 1, 1, 1, 1, 1, 1, 1, 1, 1, 1, 1, 1, 1, 1, 1,\n",
       "       1, 1, 1, 1, 1, 1, 1, 1, 1, 1, 1, 1, 1, 1, 1, 1, 1, 1, 1, 1, 1, 1,\n",
       "       1, 1, 1, 1, 1, 1, 1, 1, 1, 1, 1, 1, 1, 1, 1, 1, 1, 1, 1, 1])"
      ]
     },
     "execution_count": 27,
     "metadata": {},
     "output_type": "execute_result"
    }
   ],
   "source": [
    "# Train SVM\n",
    "clf = svm.SVC(gamma='scale')\n",
    "clf.fit(pos_feature_mat.T, pos_lbl).predict(pos_feature_mat.T)"
   ]
  },
  {
   "cell_type": "code",
   "execution_count": 34,
   "metadata": {},
   "outputs": [
    {
     "name": "stdout",
     "output_type": "stream",
     "text": [
      "y = 25, x = 400\n",
      "y = 200, x = 305\n",
      "y = 170, x = 300\n",
      "y = 45, x = 390\n",
      "y = 225, x = 145\n",
      "y = 25, x = 25\n",
      "y = 80, x = 290\n",
      "y = 65, x = 150\n",
      "y = 110, x = 210\n",
      "y = 195, x = 370\n",
      "y = 250, x = 60\n",
      "y = 65, x = 155\n",
      "y = 90, x = 80\n",
      "y = 265, x = 120\n",
      "y = 80, x = 255\n",
      "y = 135, x = 215\n",
      "y = 85, x = 295\n",
      "y = 220, x = 140\n",
      "y = 160, x = 70\n",
      "y = 170, x = 175\n",
      "y = 70, x = 370\n",
      "y = 55, x = 250\n",
      "y = 210, x = 95\n",
      "y = 70, x = 275\n",
      "y = 90, x = 80\n",
      "y = 95, x = 45\n",
      "y = 75, x = 285\n",
      "y = 10, x = 285\n",
      "y = 85, x = 30\n",
      "y = 75, x = 105\n",
      "y = 180, x = 180\n",
      "y = 215, x = 380\n",
      "y = 190, x = 390\n",
      "y = 235, x = 95\n",
      "y = 80, x = 275\n",
      "y = 175, x = 310\n",
      "y = 210, x = 60\n",
      "y = 235, x = 340\n",
      "y = 95, x = 300\n",
      "y = 150, x = 30\n",
      "y = 115, x = 405\n",
      "y = 120, x = 225\n",
      "y = 8, x = 65\n",
      "y = 5, x = 270\n",
      "y = 185, x = 395\n",
      "y = 225, x = 170\n",
      "y = 170, x = 89\n",
      "y = 60, x = 240\n",
      "y = 0, x = 130\n",
      "y = 215, x = 305\n",
      "y = 120, x = 130\n",
      "y = 175, x = 400\n",
      "y = 20, x = 385\n",
      "y = 205, x = 135\n",
      "y = 85, x = 46\n",
      "y = 80, x = 135\n",
      "y = 55, x = 45\n",
      "y = 245, x = 115\n",
      "y = 245, x = 105\n",
      "y = 145, x = 370\n",
      "y = 240, x = 0\n",
      "y = 15, x = 15\n",
      "y = 195, x = 88\n",
      "y = 50, x = 178\n",
      "y = 210, x = 385\n",
      "y = 94, x = 306\n",
      "y = 145, x = 203\n",
      "y = 38, x = 95\n",
      "y = 215, x = 352\n"
     ]
    }
   ],
   "source": [
    "anno_data = open(PATH+'../anno.txt', 'r')\n",
    "while True:\n",
    "    line = anno_data.readline()\n",
    "    if not line:\n",
    "        break\n",
    "    top_left = line.split(\",\")\n",
    "    print('y = {}, x = {}'.format(int(top_left[0]), int(top_left[1])))"
   ]
  },
  {
   "cell_type": "code",
   "execution_count": 43,
   "metadata": {},
   "outputs": [
    {
     "ename": "error",
     "evalue": "OpenCV(3.4.2) /tmp/build/80754af9/opencv-suite_1535558553474/work/modules/imgproc/src/drawing.cpp:2515: error: (-215:Assertion failed) npoints > 0 in function 'drawContours'\n",
     "output_type": "error",
     "traceback": [
      "\u001b[0;31m---------------------------------------------------------------------------\u001b[0m",
      "\u001b[0;31merror\u001b[0m                                     Traceback (most recent call last)",
      "\u001b[0;32m<ipython-input-43-cafda766721b>\u001b[0m in \u001b[0;36m<module>\u001b[0;34m\u001b[0m\n\u001b[1;32m      1\u001b[0m \u001b[0mPATH\u001b[0m \u001b[0;34m=\u001b[0m \u001b[0;34m\"/home/nobug-ros/Desktop/cpp_practice/BrainCorp/find_phone/\"\u001b[0m\u001b[0;34m\u001b[0m\u001b[0;34m\u001b[0m\u001b[0m\n\u001b[1;32m      2\u001b[0m \u001b[0mimg_full\u001b[0m \u001b[0;34m=\u001b[0m \u001b[0mcv2\u001b[0m\u001b[0;34m.\u001b[0m\u001b[0mimread\u001b[0m\u001b[0;34m(\u001b[0m\u001b[0mPATH\u001b[0m\u001b[0;34m+\u001b[0m\u001b[0;34m'0.jpg'\u001b[0m\u001b[0;34m,\u001b[0m \u001b[0mcv2\u001b[0m\u001b[0;34m.\u001b[0m\u001b[0mIMREAD_UNCHANGED\u001b[0m\u001b[0;34m)\u001b[0m\u001b[0;34m\u001b[0m\u001b[0;34m\u001b[0m\u001b[0m\n\u001b[0;32m----> 3\u001b[0;31m \u001b[0mcv2\u001b[0m\u001b[0;34m.\u001b[0m\u001b[0mdrawContours\u001b[0m\u001b[0;34m(\u001b[0m\u001b[0mimg\u001b[0m\u001b[0;34m,\u001b[0m \u001b[0mnp\u001b[0m\u001b[0;34m.\u001b[0m\u001b[0marray\u001b[0m\u001b[0;34m(\u001b[0m\u001b[0;34m[\u001b[0m\u001b[0;34m[\u001b[0m\u001b[0;36m25\u001b[0m\u001b[0;34m,\u001b[0m \u001b[0;36m400\u001b[0m\u001b[0;34m]\u001b[0m\u001b[0;34m,\u001b[0m\u001b[0;34m[\u001b[0m\u001b[0;36m25\u001b[0m\u001b[0;34m,\u001b[0m \u001b[0;36m460\u001b[0m\u001b[0;34m]\u001b[0m\u001b[0;34m,\u001b[0m\u001b[0;34m[\u001b[0m\u001b[0;36m25\u001b[0m\u001b[0;34m+\u001b[0m\u001b[0;36m60\u001b[0m\u001b[0;34m,\u001b[0m\u001b[0;36m400\u001b[0m\u001b[0;34m+\u001b[0m\u001b[0;36m60\u001b[0m\u001b[0;34m]\u001b[0m\u001b[0;34m,\u001b[0m\u001b[0;34m[\u001b[0m\u001b[0;36m25\u001b[0m\u001b[0;34m+\u001b[0m\u001b[0;36m60\u001b[0m\u001b[0;34m,\u001b[0m\u001b[0;36m400\u001b[0m\u001b[0;34m]\u001b[0m\u001b[0;34m]\u001b[0m\u001b[0;34m)\u001b[0m\u001b[0;34m,\u001b[0m \u001b[0;34m-\u001b[0m\u001b[0;36m1\u001b[0m\u001b[0;34m,\u001b[0m \u001b[0;34m(\u001b[0m\u001b[0;36m0\u001b[0m\u001b[0;34m,\u001b[0m \u001b[0;36m0\u001b[0m\u001b[0;34m,\u001b[0m \u001b[0;36m255\u001b[0m\u001b[0;34m)\u001b[0m\u001b[0;34m,\u001b[0m \u001b[0;36m2\u001b[0m\u001b[0;34m)\u001b[0m\u001b[0;34m\u001b[0m\u001b[0;34m\u001b[0m\u001b[0m\n\u001b[0m\u001b[1;32m      4\u001b[0m \u001b[0mplt\u001b[0m\u001b[0;34m.\u001b[0m\u001b[0mimshow\u001b[0m\u001b[0;34m(\u001b[0m\u001b[0mcv2\u001b[0m\u001b[0;34m.\u001b[0m\u001b[0mcvtColor\u001b[0m\u001b[0;34m(\u001b[0m\u001b[0mimg_full\u001b[0m\u001b[0;34m,\u001b[0m \u001b[0mcv2\u001b[0m\u001b[0;34m.\u001b[0m\u001b[0mCOLOR_BGR2RGB\u001b[0m\u001b[0;34m)\u001b[0m\u001b[0;34m)\u001b[0m\u001b[0;34m\u001b[0m\u001b[0;34m\u001b[0m\u001b[0m\n\u001b[1;32m      5\u001b[0m \u001b[0mplt\u001b[0m\u001b[0;34m.\u001b[0m\u001b[0mshow\u001b[0m\u001b[0;34m(\u001b[0m\u001b[0;34m)\u001b[0m\u001b[0;34m\u001b[0m\u001b[0;34m\u001b[0m\u001b[0m\n",
      "\u001b[0;31merror\u001b[0m: OpenCV(3.4.2) /tmp/build/80754af9/opencv-suite_1535558553474/work/modules/imgproc/src/drawing.cpp:2515: error: (-215:Assertion failed) npoints > 0 in function 'drawContours'\n"
     ]
    }
   ],
   "source": [
    "PATH = \"/home/nobug-ros/Desktop/cpp_practice/BrainCorp/find_phone/\"\n",
    "img_full = cv2.imread(PATH+'0.jpg', cv2.IMREAD_UNCHANGED)\n",
    "cv2.rectangle(img, np.array([[25, 400],[25, 460],[25+60,400+60],[25+60,400]]), -1, (0, 0, 255), 2)\n",
    "plt.imshow(cv2.cvtColor(img_full, cv2.COLOR_BGR2RGB))\n",
    "plt.show()"
   ]
  }
 ],
 "metadata": {
  "kernelspec": {
   "display_name": "Python 3",
   "language": "python",
   "name": "python3"
  },
  "language_info": {
   "codemirror_mode": {
    "name": "ipython",
    "version": 3
   },
   "file_extension": ".py",
   "mimetype": "text/x-python",
   "name": "python",
   "nbconvert_exporter": "python",
   "pygments_lexer": "ipython3",
   "version": "3.6.8"
  }
 },
 "nbformat": 4,
 "nbformat_minor": 2
}
